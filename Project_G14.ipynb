{
  "nbformat": 4,
  "nbformat_minor": 0,
  "metadata": {
    "colab": {
      "name": "Copy of BCI_END_ASSIGNMENT.ipynb",
      "provenance": [],
      "collapsed_sections": []
    },
    "kernelspec": {
      "name": "python3",
      "display_name": "Python 3"
    },
    "language_info": {
      "name": "python"
    }
  },
  "cells": [
    {
      "cell_type": "code",
      "metadata": {
        "id": "78gTDEdgkav0"
      },
      "source": [
        "import os"
      ],
      "execution_count": null,
      "outputs": []
    },
    {
      "cell_type": "code",
      "metadata": {
        "id": "w1mWg3HLlarJ"
      },
      "source": [
        "%%capture\n",
        "# https://drive.google.com/file/d/11zzAlVTNLvcgZQaaTGLIj8hpqHdJWNM6/view?usp=sharing\n",
        "!wget -O Epileptic_Seizure_Recognition.csv --no-check-certificate \"https://docs.google.com/uc?export=download&id=11zzAlVTNLvcgZQaaTGLIj8hpqHdJWNM6\""
      ],
      "execution_count": null,
      "outputs": []
    },
    {
      "cell_type": "code",
      "metadata": {
        "colab": {
          "base_uri": "https://localhost:8080/"
        },
        "id": "H-IwvCPooiRg",
        "outputId": "af0d72e5-1227-422b-d565-7a6318e8fcc1"
      },
      "source": [
        "PATH_ = \"/content/Epileptic_Seizure_Recognition.csv\"\n",
        "if os.path.exists(PATH_):\n",
        "  print(\"Data loaded succesfully\")"
      ],
      "execution_count": null,
      "outputs": [
        {
          "output_type": "stream",
          "text": [
            "Data loaded succesfully\n"
          ],
          "name": "stdout"
        }
      ]
    },
    {
      "cell_type": "code",
      "metadata": {
        "id": "CB86VihXqZ7_"
      },
      "source": [
        "import numpy as np \n",
        "import pandas as pd\n",
        "\n",
        "from sklearn.model_selection import train_test_split\n",
        "import tensorflow as tf\n",
        "from keras.models import Model\n",
        "from keras.utils import np_utils\n",
        "from keras.layers import Input, Dense, Activation, Dropout\n",
        "\n",
        "import matplotlib.pyplot as plt\n",
        "import seaborn as sns\n",
        "sns.set_style('darkgrid')\n"
      ],
      "execution_count": null,
      "outputs": []
    },
    {
      "cell_type": "code",
      "metadata": {
        "id": "7_4pCXhssy1C"
      },
      "source": [
        "data = pd.read_csv(PATH_)"
      ],
      "execution_count": null,
      "outputs": []
    },
    {
      "cell_type": "code",
      "metadata": {
        "colab": {
          "base_uri": "https://localhost:8080/",
          "height": 253
        },
        "id": "MJqKr7XomDtl",
        "outputId": "497c760a-5ae8-4028-fb8d-a3b2fdff9880"
      },
      "source": [
        "data.head()"
      ],
      "execution_count": null,
      "outputs": [
        {
          "output_type": "execute_result",
          "data": {
            "text/html": [
              "<div>\n",
              "<style scoped>\n",
              "    .dataframe tbody tr th:only-of-type {\n",
              "        vertical-align: middle;\n",
              "    }\n",
              "\n",
              "    .dataframe tbody tr th {\n",
              "        vertical-align: top;\n",
              "    }\n",
              "\n",
              "    .dataframe thead th {\n",
              "        text-align: right;\n",
              "    }\n",
              "</style>\n",
              "<table border=\"1\" class=\"dataframe\">\n",
              "  <thead>\n",
              "    <tr style=\"text-align: right;\">\n",
              "      <th></th>\n",
              "      <th>Unnamed</th>\n",
              "      <th>X1</th>\n",
              "      <th>X2</th>\n",
              "      <th>X3</th>\n",
              "      <th>X4</th>\n",
              "      <th>X5</th>\n",
              "      <th>X6</th>\n",
              "      <th>X7</th>\n",
              "      <th>X8</th>\n",
              "      <th>X9</th>\n",
              "      <th>X10</th>\n",
              "      <th>X11</th>\n",
              "      <th>X12</th>\n",
              "      <th>X13</th>\n",
              "      <th>X14</th>\n",
              "      <th>X15</th>\n",
              "      <th>X16</th>\n",
              "      <th>X17</th>\n",
              "      <th>X18</th>\n",
              "      <th>X19</th>\n",
              "      <th>X20</th>\n",
              "      <th>X21</th>\n",
              "      <th>X22</th>\n",
              "      <th>X23</th>\n",
              "      <th>X24</th>\n",
              "      <th>X25</th>\n",
              "      <th>X26</th>\n",
              "      <th>X27</th>\n",
              "      <th>X28</th>\n",
              "      <th>X29</th>\n",
              "      <th>X30</th>\n",
              "      <th>X31</th>\n",
              "      <th>X32</th>\n",
              "      <th>X33</th>\n",
              "      <th>X34</th>\n",
              "      <th>X35</th>\n",
              "      <th>X36</th>\n",
              "      <th>X37</th>\n",
              "      <th>X38</th>\n",
              "      <th>X39</th>\n",
              "      <th>...</th>\n",
              "      <th>X140</th>\n",
              "      <th>X141</th>\n",
              "      <th>X142</th>\n",
              "      <th>X143</th>\n",
              "      <th>X144</th>\n",
              "      <th>X145</th>\n",
              "      <th>X146</th>\n",
              "      <th>X147</th>\n",
              "      <th>X148</th>\n",
              "      <th>X149</th>\n",
              "      <th>X150</th>\n",
              "      <th>X151</th>\n",
              "      <th>X152</th>\n",
              "      <th>X153</th>\n",
              "      <th>X154</th>\n",
              "      <th>X155</th>\n",
              "      <th>X156</th>\n",
              "      <th>X157</th>\n",
              "      <th>X158</th>\n",
              "      <th>X159</th>\n",
              "      <th>X160</th>\n",
              "      <th>X161</th>\n",
              "      <th>X162</th>\n",
              "      <th>X163</th>\n",
              "      <th>X164</th>\n",
              "      <th>X165</th>\n",
              "      <th>X166</th>\n",
              "      <th>X167</th>\n",
              "      <th>X168</th>\n",
              "      <th>X169</th>\n",
              "      <th>X170</th>\n",
              "      <th>X171</th>\n",
              "      <th>X172</th>\n",
              "      <th>X173</th>\n",
              "      <th>X174</th>\n",
              "      <th>X175</th>\n",
              "      <th>X176</th>\n",
              "      <th>X177</th>\n",
              "      <th>X178</th>\n",
              "      <th>y</th>\n",
              "    </tr>\n",
              "  </thead>\n",
              "  <tbody>\n",
              "    <tr>\n",
              "      <th>0</th>\n",
              "      <td>X21.V1.791</td>\n",
              "      <td>135</td>\n",
              "      <td>190</td>\n",
              "      <td>229</td>\n",
              "      <td>223</td>\n",
              "      <td>192</td>\n",
              "      <td>125</td>\n",
              "      <td>55</td>\n",
              "      <td>-9</td>\n",
              "      <td>-33</td>\n",
              "      <td>-38</td>\n",
              "      <td>-10</td>\n",
              "      <td>35</td>\n",
              "      <td>64</td>\n",
              "      <td>113</td>\n",
              "      <td>152</td>\n",
              "      <td>164</td>\n",
              "      <td>127</td>\n",
              "      <td>50</td>\n",
              "      <td>-47</td>\n",
              "      <td>-121</td>\n",
              "      <td>-138</td>\n",
              "      <td>-125</td>\n",
              "      <td>-101</td>\n",
              "      <td>-50</td>\n",
              "      <td>11</td>\n",
              "      <td>39</td>\n",
              "      <td>24</td>\n",
              "      <td>48</td>\n",
              "      <td>64</td>\n",
              "      <td>46</td>\n",
              "      <td>13</td>\n",
              "      <td>-19</td>\n",
              "      <td>-61</td>\n",
              "      <td>-96</td>\n",
              "      <td>-130</td>\n",
              "      <td>-132</td>\n",
              "      <td>-116</td>\n",
              "      <td>-115</td>\n",
              "      <td>-71</td>\n",
              "      <td>...</td>\n",
              "      <td>54</td>\n",
              "      <td>90</td>\n",
              "      <td>111</td>\n",
              "      <td>107</td>\n",
              "      <td>64</td>\n",
              "      <td>32</td>\n",
              "      <td>18</td>\n",
              "      <td>-25</td>\n",
              "      <td>-69</td>\n",
              "      <td>-65</td>\n",
              "      <td>-44</td>\n",
              "      <td>-33</td>\n",
              "      <td>-57</td>\n",
              "      <td>-88</td>\n",
              "      <td>-114</td>\n",
              "      <td>-130</td>\n",
              "      <td>-114</td>\n",
              "      <td>-83</td>\n",
              "      <td>-53</td>\n",
              "      <td>-79</td>\n",
              "      <td>-72</td>\n",
              "      <td>-85</td>\n",
              "      <td>-109</td>\n",
              "      <td>-98</td>\n",
              "      <td>-72</td>\n",
              "      <td>-65</td>\n",
              "      <td>-63</td>\n",
              "      <td>-11</td>\n",
              "      <td>10</td>\n",
              "      <td>8</td>\n",
              "      <td>-17</td>\n",
              "      <td>-15</td>\n",
              "      <td>-31</td>\n",
              "      <td>-77</td>\n",
              "      <td>-103</td>\n",
              "      <td>-127</td>\n",
              "      <td>-116</td>\n",
              "      <td>-83</td>\n",
              "      <td>-51</td>\n",
              "      <td>4</td>\n",
              "    </tr>\n",
              "    <tr>\n",
              "      <th>1</th>\n",
              "      <td>X15.V1.924</td>\n",
              "      <td>386</td>\n",
              "      <td>382</td>\n",
              "      <td>356</td>\n",
              "      <td>331</td>\n",
              "      <td>320</td>\n",
              "      <td>315</td>\n",
              "      <td>307</td>\n",
              "      <td>272</td>\n",
              "      <td>244</td>\n",
              "      <td>232</td>\n",
              "      <td>237</td>\n",
              "      <td>258</td>\n",
              "      <td>212</td>\n",
              "      <td>2</td>\n",
              "      <td>-267</td>\n",
              "      <td>-605</td>\n",
              "      <td>-850</td>\n",
              "      <td>-1001</td>\n",
              "      <td>-1109</td>\n",
              "      <td>-1090</td>\n",
              "      <td>-967</td>\n",
              "      <td>-746</td>\n",
              "      <td>-464</td>\n",
              "      <td>-152</td>\n",
              "      <td>118</td>\n",
              "      <td>318</td>\n",
              "      <td>427</td>\n",
              "      <td>473</td>\n",
              "      <td>485</td>\n",
              "      <td>447</td>\n",
              "      <td>397</td>\n",
              "      <td>339</td>\n",
              "      <td>312</td>\n",
              "      <td>314</td>\n",
              "      <td>326</td>\n",
              "      <td>335</td>\n",
              "      <td>332</td>\n",
              "      <td>324</td>\n",
              "      <td>310</td>\n",
              "      <td>...</td>\n",
              "      <td>27</td>\n",
              "      <td>146</td>\n",
              "      <td>229</td>\n",
              "      <td>269</td>\n",
              "      <td>297</td>\n",
              "      <td>307</td>\n",
              "      <td>303</td>\n",
              "      <td>305</td>\n",
              "      <td>306</td>\n",
              "      <td>307</td>\n",
              "      <td>280</td>\n",
              "      <td>231</td>\n",
              "      <td>159</td>\n",
              "      <td>85</td>\n",
              "      <td>51</td>\n",
              "      <td>43</td>\n",
              "      <td>62</td>\n",
              "      <td>63</td>\n",
              "      <td>63</td>\n",
              "      <td>69</td>\n",
              "      <td>89</td>\n",
              "      <td>123</td>\n",
              "      <td>136</td>\n",
              "      <td>127</td>\n",
              "      <td>102</td>\n",
              "      <td>95</td>\n",
              "      <td>105</td>\n",
              "      <td>131</td>\n",
              "      <td>163</td>\n",
              "      <td>168</td>\n",
              "      <td>164</td>\n",
              "      <td>150</td>\n",
              "      <td>146</td>\n",
              "      <td>152</td>\n",
              "      <td>157</td>\n",
              "      <td>156</td>\n",
              "      <td>154</td>\n",
              "      <td>143</td>\n",
              "      <td>129</td>\n",
              "      <td>1</td>\n",
              "    </tr>\n",
              "    <tr>\n",
              "      <th>2</th>\n",
              "      <td>X8.V1.1</td>\n",
              "      <td>-32</td>\n",
              "      <td>-39</td>\n",
              "      <td>-47</td>\n",
              "      <td>-37</td>\n",
              "      <td>-32</td>\n",
              "      <td>-36</td>\n",
              "      <td>-57</td>\n",
              "      <td>-73</td>\n",
              "      <td>-85</td>\n",
              "      <td>-94</td>\n",
              "      <td>-99</td>\n",
              "      <td>-94</td>\n",
              "      <td>-96</td>\n",
              "      <td>-104</td>\n",
              "      <td>-103</td>\n",
              "      <td>-92</td>\n",
              "      <td>-75</td>\n",
              "      <td>-69</td>\n",
              "      <td>-69</td>\n",
              "      <td>-53</td>\n",
              "      <td>-37</td>\n",
              "      <td>-14</td>\n",
              "      <td>-10</td>\n",
              "      <td>-39</td>\n",
              "      <td>-78</td>\n",
              "      <td>-102</td>\n",
              "      <td>-98</td>\n",
              "      <td>-80</td>\n",
              "      <td>-54</td>\n",
              "      <td>-40</td>\n",
              "      <td>-35</td>\n",
              "      <td>-39</td>\n",
              "      <td>-32</td>\n",
              "      <td>-13</td>\n",
              "      <td>7</td>\n",
              "      <td>34</td>\n",
              "      <td>41</td>\n",
              "      <td>33</td>\n",
              "      <td>6</td>\n",
              "      <td>...</td>\n",
              "      <td>-82</td>\n",
              "      <td>-107</td>\n",
              "      <td>-126</td>\n",
              "      <td>-124</td>\n",
              "      <td>-108</td>\n",
              "      <td>-84</td>\n",
              "      <td>-68</td>\n",
              "      <td>-61</td>\n",
              "      <td>-56</td>\n",
              "      <td>-63</td>\n",
              "      <td>-62</td>\n",
              "      <td>-33</td>\n",
              "      <td>1</td>\n",
              "      <td>28</td>\n",
              "      <td>45</td>\n",
              "      <td>37</td>\n",
              "      <td>48</td>\n",
              "      <td>62</td>\n",
              "      <td>80</td>\n",
              "      <td>66</td>\n",
              "      <td>23</td>\n",
              "      <td>-11</td>\n",
              "      <td>-39</td>\n",
              "      <td>-44</td>\n",
              "      <td>-42</td>\n",
              "      <td>-45</td>\n",
              "      <td>-48</td>\n",
              "      <td>-42</td>\n",
              "      <td>-6</td>\n",
              "      <td>29</td>\n",
              "      <td>57</td>\n",
              "      <td>64</td>\n",
              "      <td>48</td>\n",
              "      <td>19</td>\n",
              "      <td>-12</td>\n",
              "      <td>-30</td>\n",
              "      <td>-35</td>\n",
              "      <td>-35</td>\n",
              "      <td>-36</td>\n",
              "      <td>5</td>\n",
              "    </tr>\n",
              "    <tr>\n",
              "      <th>3</th>\n",
              "      <td>X16.V1.60</td>\n",
              "      <td>-105</td>\n",
              "      <td>-101</td>\n",
              "      <td>-96</td>\n",
              "      <td>-92</td>\n",
              "      <td>-89</td>\n",
              "      <td>-95</td>\n",
              "      <td>-102</td>\n",
              "      <td>-100</td>\n",
              "      <td>-87</td>\n",
              "      <td>-79</td>\n",
              "      <td>-72</td>\n",
              "      <td>-68</td>\n",
              "      <td>-74</td>\n",
              "      <td>-80</td>\n",
              "      <td>-83</td>\n",
              "      <td>-73</td>\n",
              "      <td>-68</td>\n",
              "      <td>-61</td>\n",
              "      <td>-58</td>\n",
              "      <td>-59</td>\n",
              "      <td>-64</td>\n",
              "      <td>-79</td>\n",
              "      <td>-84</td>\n",
              "      <td>-97</td>\n",
              "      <td>-94</td>\n",
              "      <td>-84</td>\n",
              "      <td>-77</td>\n",
              "      <td>-75</td>\n",
              "      <td>-72</td>\n",
              "      <td>-68</td>\n",
              "      <td>-76</td>\n",
              "      <td>-76</td>\n",
              "      <td>-72</td>\n",
              "      <td>-67</td>\n",
              "      <td>-69</td>\n",
              "      <td>-69</td>\n",
              "      <td>-69</td>\n",
              "      <td>-67</td>\n",
              "      <td>-68</td>\n",
              "      <td>...</td>\n",
              "      <td>-69</td>\n",
              "      <td>-66</td>\n",
              "      <td>-74</td>\n",
              "      <td>-69</td>\n",
              "      <td>-61</td>\n",
              "      <td>-51</td>\n",
              "      <td>-45</td>\n",
              "      <td>-45</td>\n",
              "      <td>-49</td>\n",
              "      <td>-58</td>\n",
              "      <td>-64</td>\n",
              "      <td>-78</td>\n",
              "      <td>-80</td>\n",
              "      <td>-90</td>\n",
              "      <td>-87</td>\n",
              "      <td>-83</td>\n",
              "      <td>-78</td>\n",
              "      <td>-64</td>\n",
              "      <td>-38</td>\n",
              "      <td>-22</td>\n",
              "      <td>-29</td>\n",
              "      <td>-42</td>\n",
              "      <td>-51</td>\n",
              "      <td>-68</td>\n",
              "      <td>-71</td>\n",
              "      <td>-69</td>\n",
              "      <td>-69</td>\n",
              "      <td>-74</td>\n",
              "      <td>-74</td>\n",
              "      <td>-80</td>\n",
              "      <td>-82</td>\n",
              "      <td>-81</td>\n",
              "      <td>-80</td>\n",
              "      <td>-77</td>\n",
              "      <td>-85</td>\n",
              "      <td>-77</td>\n",
              "      <td>-72</td>\n",
              "      <td>-69</td>\n",
              "      <td>-65</td>\n",
              "      <td>5</td>\n",
              "    </tr>\n",
              "    <tr>\n",
              "      <th>4</th>\n",
              "      <td>X20.V1.54</td>\n",
              "      <td>-9</td>\n",
              "      <td>-65</td>\n",
              "      <td>-98</td>\n",
              "      <td>-102</td>\n",
              "      <td>-78</td>\n",
              "      <td>-48</td>\n",
              "      <td>-16</td>\n",
              "      <td>0</td>\n",
              "      <td>-21</td>\n",
              "      <td>-59</td>\n",
              "      <td>-90</td>\n",
              "      <td>-103</td>\n",
              "      <td>-84</td>\n",
              "      <td>-43</td>\n",
              "      <td>-9</td>\n",
              "      <td>3</td>\n",
              "      <td>-21</td>\n",
              "      <td>-60</td>\n",
              "      <td>-96</td>\n",
              "      <td>-103</td>\n",
              "      <td>-75</td>\n",
              "      <td>-29</td>\n",
              "      <td>14</td>\n",
              "      <td>55</td>\n",
              "      <td>78</td>\n",
              "      <td>73</td>\n",
              "      <td>28</td>\n",
              "      <td>-13</td>\n",
              "      <td>-43</td>\n",
              "      <td>-68</td>\n",
              "      <td>-78</td>\n",
              "      <td>-75</td>\n",
              "      <td>-55</td>\n",
              "      <td>-41</td>\n",
              "      <td>-19</td>\n",
              "      <td>-20</td>\n",
              "      <td>-29</td>\n",
              "      <td>-36</td>\n",
              "      <td>-20</td>\n",
              "      <td>...</td>\n",
              "      <td>38</td>\n",
              "      <td>26</td>\n",
              "      <td>10</td>\n",
              "      <td>-4</td>\n",
              "      <td>-13</td>\n",
              "      <td>-8</td>\n",
              "      <td>0</td>\n",
              "      <td>10</td>\n",
              "      <td>19</td>\n",
              "      <td>29</td>\n",
              "      <td>57</td>\n",
              "      <td>63</td>\n",
              "      <td>45</td>\n",
              "      <td>7</td>\n",
              "      <td>-13</td>\n",
              "      <td>-23</td>\n",
              "      <td>-9</td>\n",
              "      <td>9</td>\n",
              "      <td>11</td>\n",
              "      <td>3</td>\n",
              "      <td>-1</td>\n",
              "      <td>-2</td>\n",
              "      <td>4</td>\n",
              "      <td>18</td>\n",
              "      <td>27</td>\n",
              "      <td>27</td>\n",
              "      <td>14</td>\n",
              "      <td>15</td>\n",
              "      <td>11</td>\n",
              "      <td>10</td>\n",
              "      <td>4</td>\n",
              "      <td>2</td>\n",
              "      <td>-12</td>\n",
              "      <td>-32</td>\n",
              "      <td>-41</td>\n",
              "      <td>-65</td>\n",
              "      <td>-83</td>\n",
              "      <td>-89</td>\n",
              "      <td>-73</td>\n",
              "      <td>5</td>\n",
              "    </tr>\n",
              "  </tbody>\n",
              "</table>\n",
              "<p>5 rows × 180 columns</p>\n",
              "</div>"
            ],
            "text/plain": [
              "      Unnamed   X1   X2   X3   X4   X5  ...  X174  X175  X176  X177  X178  y\n",
              "0  X21.V1.791  135  190  229  223  192  ...  -103  -127  -116   -83   -51  4\n",
              "1  X15.V1.924  386  382  356  331  320  ...   157   156   154   143   129  1\n",
              "2     X8.V1.1  -32  -39  -47  -37  -32  ...   -12   -30   -35   -35   -36  5\n",
              "3   X16.V1.60 -105 -101  -96  -92  -89  ...   -85   -77   -72   -69   -65  5\n",
              "4   X20.V1.54   -9  -65  -98 -102  -78  ...   -41   -65   -83   -89   -73  5\n",
              "\n",
              "[5 rows x 180 columns]"
            ]
          },
          "metadata": {
            "tags": []
          },
          "execution_count": 123
        }
      ]
    },
    {
      "cell_type": "code",
      "metadata": {
        "id": "La3vUx1EqNZo"
      },
      "source": [
        "# Converting the dataset for binary classification\n",
        "\n",
        "data['y'] = data['y'].replace([2,3,4,5], 0)"
      ],
      "execution_count": null,
      "outputs": []
    },
    {
      "cell_type": "code",
      "metadata": {
        "id": "mtQGNg8AmMNz"
      },
      "source": [
        "from sklearn import preprocessing\n",
        "\n",
        "X=data.values\n",
        "X=X[:,1:-1]\n",
        "\n",
        "# Applying min max scaler\n",
        "scaler = preprocessing.MinMaxScaler()\n",
        "data_rescaled = scaler.fit_transform(X)\n",
        "\n",
        "y=np.array(data['y'])\n",
        "Y=np_utils.to_categorical(y)\n",
        "\n",
        "X_train, X_test, Y_train, Y_test = train_test_split(X, Y, test_size=0.20, random_state=123) # Train-Test Split\n",
        "X_test, X_val, Y_test, Y_val = train_test_split(X_test, Y_test, test_size=0.50, random_state=123) # Test-Validation Split"
      ],
      "execution_count": null,
      "outputs": []
    },
    {
      "cell_type": "markdown",
      "metadata": {
        "id": "d57v3oHQNQDM"
      },
      "source": [
        "# **Applying PCA for feature extraction**"
      ]
    },
    {
      "cell_type": "code",
      "metadata": {
        "colab": {
          "base_uri": "https://localhost:8080/",
          "height": 730
        },
        "id": "Ty4Jis8OAW8Y",
        "outputId": "d032969e-4734-444e-b932-dada7335e516"
      },
      "source": [
        "from sklearn.decomposition import PCA\n",
        "\n",
        "pca = PCA().fit(X_train)\n",
        "\n",
        "plt.rcParams[\"figure.figsize\"] = (14,12)\n",
        "\n",
        "fig, ax = plt.subplots()\n",
        "xi = np.arange(0, 178, step=1)\n",
        "y = np.cumsum(pca.explained_variance_ratio_)\n",
        "\n",
        "plt.ylim(0.0,1.1)\n",
        "plt.plot(xi, y, marker='o', linestyle='--', color='b')\n",
        "\n",
        "plt.xlabel('Number of Components')\n",
        "plt.xticks(np.arange(0, 178, step=10)) #change from 0-based array index to 1-based human-readable label\n",
        "plt.ylabel('Cumulative variance (%)')\n",
        "plt.title('The number of components needed to explain variance')\n",
        "\n",
        "plt.axhline(y=0.98, color='r', linestyle='-')\n",
        "plt.text(0.5, 0.85, '98% cut-off threshold', color = 'red', fontsize=16)\n",
        "\n",
        "ax.grid(axis='x')\n",
        "plt.show()"
      ],
      "execution_count": null,
      "outputs": [
        {
          "output_type": "display_data",
          "data": {
            "image/png": "[encoded data removed]",
            "text/plain": [
              "<Figure size 1008x864 with 1 Axes>"
            ]
          },
          "metadata": {
            "tags": []
          }
        }
      ]
    },
    {
      "cell_type": "code",
      "metadata": {
        "id": "OmTclInKxUJf"
      },
      "source": [
        "n_components = 0.98\n",
        "pca=PCA(n_components=n_components, whiten=True)\n",
        "pca.fit(X_train)\n",
        "\n",
        "Train_PCA = pca.transform(X_train)\n",
        "Val_PCA = pca.transform(X_val)\n",
        "Test_PCA = pca.transform(X_test)"
      ],
      "execution_count": null,
      "outputs": []
    },
    {
      "cell_type": "code",
      "metadata": {
        "colab": {
          "base_uri": "https://localhost:8080/"
        },
        "id": "RI1Xdi5ZmY8r",
        "outputId": "53dfacec-e857-4132-c0cf-d61b76589bd9"
      },
      "source": [
        "\n",
        "print(\"Shape of training data, X and Y: \" + str(Train_PCA.shape) + \", \"+  str(Y_train.shape),\"\\n\")\n",
        "print(\"Shape of validation data, X and Y: \" + str(Val_PCA.shape) + \", \"+  str(Y_val.shape),\"\\n\")\n",
        "print(\"Shape of test data, X and Y: \" + str(Test_PCA.shape) + \", \"+  str( Y_test.shape),\"\\n\")"
      ],
      "execution_count": null,
      "outputs": [
        {
          "output_type": "stream",
          "text": [
            "Shape of training data, X and Y: (9200, 47), (9200, 2) \n",
            "\n",
            "Shape of validation data, X and Y: (1150, 47), (1150, 2) \n",
            "\n",
            "Shape of test data, X and Y: (1150, 47), (1150, 2) \n",
            "\n"
          ],
          "name": "stdout"
        }
      ]
    },
    {
      "cell_type": "code",
      "metadata": {
        "id": "3WHoFCWnuBIA"
      },
      "source": [
        "# Structure of the model\n",
        "\n",
        "def Seizure_Model(input_shape, classes):\n",
        "  \n",
        "  X_input = Input(input_shape)\n",
        "  \n",
        "  '''\n",
        "  X = Dense(512, activation='relu')(X_input)\n",
        "  \n",
        "  X = Dense(256, activation='relu')(X)\n",
        "  X = Dropout(0.8)(X)\n",
        "  \n",
        "  X = Dense(128, activation='relu')(X)\n",
        "  X = Dense(128, activation='relu')(X)\n",
        "  X = Dropout(0.8)(X)\n",
        "\n",
        "  X = Dense(128, activation='relu')(X_input)\n",
        "  X = Dense(128, activation='relu')(X)\n",
        "  X = Dropout(0.7)(X)\n",
        "  '''\n",
        "  \n",
        "  X = Dense(64, activation='relu')(X_input)  \n",
        "  X = Dense(64, activation='relu')(X)\n",
        "  X = Dropout(0.7)(X)\n",
        "\n",
        "  X = Dense(32, activation='relu')(X)\n",
        "  X = Dense(32, activation='relu')(X)\n",
        "  X = Dropout(0.7)(X)\n",
        "  \n",
        "  X = Dense(16, activation='relu')(X)\n",
        "  X = Dense(16, activation='relu')(X)\n",
        "  X = Dropout(0.7)(X)\n",
        "  \n",
        "  X = Dense(8, activation='relu')(X)\n",
        "  \n",
        "  X = Dense(classes, activation='sigmoid')(X)\n",
        "\n",
        "  model = Model(inputs = X_input, outputs = X, name='Seizure_Model')\n",
        "  \n",
        "  return model"
      ],
      "execution_count": null,
      "outputs": []
    },
    {
      "cell_type": "code",
      "metadata": {
        "colab": {
          "base_uri": "https://localhost:8080/"
        },
        "id": "bG2GH1_urfuC",
        "outputId": "1ff68b78-8b4f-4dd0-89f2-75843cad2019"
      },
      "source": [
        "# Initializing and compiling the model\n",
        "model = Seizure_Model(input_shape = (Train_PCA.shape[1],), classes = 2)\n",
        "model.summary()\n",
        "model.compile(optimizer='adam',loss='binary_crossentropy',metrics=['accuracy'])"
      ],
      "execution_count": null,
      "outputs": [
        {
          "output_type": "stream",
          "text": [
            "Model: \"Seizure_Model\"\n",
            "_________________________________________________________________\n",
            "Layer (type)                 Output Shape              Param #   \n",
            "=================================================================\n",
            "input_14 (InputLayer)        [(None, 47)]              0         \n",
            "_________________________________________________________________\n",
            "dense_90 (Dense)             (None, 64)                3072      \n",
            "_________________________________________________________________\n",
            "dense_91 (Dense)             (None, 64)                4160      \n",
            "_________________________________________________________________\n",
            "dropout_24 (Dropout)         (None, 64)                0         \n",
            "_________________________________________________________________\n",
            "dense_92 (Dense)             (None, 32)                2080      \n",
            "_________________________________________________________________\n",
            "dense_93 (Dense)             (None, 32)                1056      \n",
            "_________________________________________________________________\n",
            "dropout_25 (Dropout)         (None, 32)                0         \n",
            "_________________________________________________________________\n",
            "dense_94 (Dense)             (None, 16)                528       \n",
            "_________________________________________________________________\n",
            "dense_95 (Dense)             (None, 16)                272       \n",
            "_________________________________________________________________\n",
            "dropout_26 (Dropout)         (None, 16)                0         \n",
            "_________________________________________________________________\n",
            "dense_96 (Dense)             (None, 8)                 136       \n",
            "_________________________________________________________________\n",
            "dense_97 (Dense)             (None, 2)                 18        \n",
            "=================================================================\n",
            "Total params: 11,322\n",
            "Trainable params: 11,322\n",
            "Non-trainable params: 0\n",
            "_________________________________________________________________\n"
          ],
          "name": "stdout"
        }
      ]
    },
    {
      "cell_type": "code",
      "metadata": {
        "colab": {
          "base_uri": "https://localhost:8080/"
        },
        "id": "HlAAi7hsrn6E",
        "outputId": "d7b1e302-5109-4630-c60d-c275bb7098d8"
      },
      "source": [
        "# Fitting the model using batch size 10 and 50 epochs\n",
        "\n",
        "history = model.fit(Train_PCA, Y_train, 10, 20, validation_data=(Val_PCA, Y_val))"
      ],
      "execution_count": null,
      "outputs": [
        {
          "output_type": "stream",
          "text": [
            "Epoch 1/20\n",
            "920/920 [==============================] - 2s 2ms/step - loss: 0.5452 - accuracy: 0.8113 - val_loss: 0.1873 - val_accuracy: 0.9348\n",
            "Epoch 2/20\n",
            "920/920 [==============================] - 2s 2ms/step - loss: 0.2288 - accuracy: 0.9241 - val_loss: 0.1199 - val_accuracy: 0.9470\n",
            "Epoch 3/20\n",
            "920/920 [==============================] - 2s 2ms/step - loss: 0.1867 - accuracy: 0.9412 - val_loss: 0.1223 - val_accuracy: 0.9522\n",
            "Epoch 4/20\n",
            "920/920 [==============================] - 2s 2ms/step - loss: 0.1488 - accuracy: 0.9510 - val_loss: 0.1125 - val_accuracy: 0.9548\n",
            "Epoch 5/20\n",
            "920/920 [==============================] - 2s 2ms/step - loss: 0.1284 - accuracy: 0.9579 - val_loss: 0.1136 - val_accuracy: 0.9565\n",
            "Epoch 6/20\n",
            "920/920 [==============================] - 2s 2ms/step - loss: 0.1072 - accuracy: 0.9680 - val_loss: 0.0947 - val_accuracy: 0.9652\n",
            "Epoch 7/20\n",
            "920/920 [==============================] - 2s 2ms/step - loss: 0.0994 - accuracy: 0.9659 - val_loss: 0.1009 - val_accuracy: 0.9713\n",
            "Epoch 8/20\n",
            "920/920 [==============================] - 2s 2ms/step - loss: 0.0951 - accuracy: 0.9706 - val_loss: 0.0998 - val_accuracy: 0.9722\n",
            "Epoch 9/20\n",
            "920/920 [==============================] - 2s 2ms/step - loss: 0.0807 - accuracy: 0.9729 - val_loss: 0.1034 - val_accuracy: 0.9722\n",
            "Epoch 10/20\n",
            "920/920 [==============================] - 2s 2ms/step - loss: 0.0762 - accuracy: 0.9779 - val_loss: 0.0906 - val_accuracy: 0.9696\n",
            "Epoch 11/20\n",
            "920/920 [==============================] - 2s 2ms/step - loss: 0.0691 - accuracy: 0.9818 - val_loss: 0.0962 - val_accuracy: 0.9713\n",
            "Epoch 12/20\n",
            "920/920 [==============================] - 2s 2ms/step - loss: 0.0735 - accuracy: 0.9781 - val_loss: 0.0890 - val_accuracy: 0.9713\n",
            "Epoch 13/20\n",
            "920/920 [==============================] - 2s 2ms/step - loss: 0.0679 - accuracy: 0.9813 - val_loss: 0.0943 - val_accuracy: 0.9687\n",
            "Epoch 14/20\n",
            "920/920 [==============================] - 2s 2ms/step - loss: 0.0533 - accuracy: 0.9851 - val_loss: 0.0889 - val_accuracy: 0.9670\n",
            "Epoch 15/20\n",
            "920/920 [==============================] - 2s 2ms/step - loss: 0.0526 - accuracy: 0.9841 - val_loss: 0.1050 - val_accuracy: 0.9670\n",
            "Epoch 16/20\n",
            "920/920 [==============================] - 2s 2ms/step - loss: 0.0520 - accuracy: 0.9870 - val_loss: 0.0940 - val_accuracy: 0.9687\n",
            "Epoch 17/20\n",
            "920/920 [==============================] - 2s 2ms/step - loss: 0.0458 - accuracy: 0.9882 - val_loss: 0.1077 - val_accuracy: 0.9678\n",
            "Epoch 18/20\n",
            "920/920 [==============================] - 2s 2ms/step - loss: 0.0547 - accuracy: 0.9868 - val_loss: 0.0979 - val_accuracy: 0.9704\n",
            "Epoch 19/20\n",
            "920/920 [==============================] - 2s 2ms/step - loss: 0.0479 - accuracy: 0.9878 - val_loss: 0.1116 - val_accuracy: 0.9670\n",
            "Epoch 20/20\n",
            "920/920 [==============================] - 2s 2ms/step - loss: 0.0480 - accuracy: 0.9866 - val_loss: 0.1235 - val_accuracy: 0.9652\n"
          ],
          "name": "stdout"
        }
      ]
    },
    {
      "cell_type": "code",
      "metadata": {
        "colab": {
          "base_uri": "https://localhost:8080/",
          "height": 1000
        },
        "id": "28v7QL-C-oAe",
        "outputId": "de705d32-45f5-498f-b516-062cb26994ff"
      },
      "source": [
        "# Comparing loss and accuracy of training and validation data.\n",
        "\n",
        "loss_train = history.history['loss']\n",
        "loss_val = history.history['val_loss']\n",
        "\n",
        "acc_train = history.history['accuracy']\n",
        "acc_val = history.history['val_accuracy']\n",
        "\n",
        "epochs = range(1,21)\n",
        "\n",
        "plt.figure(1, figsize = (12,24))\n",
        "\n",
        "plt.subplot(211)\n",
        "plt.plot(epochs, loss_train, 'g', label='Training loss')\n",
        "plt.plot(epochs, loss_val, 'b', label='validation loss')\n",
        "plt.title('Training and Validation loss')\n",
        "plt.xlabel('Epochs')\n",
        "plt.ylabel('Loss')\n",
        "plt.legend()\n",
        "\n",
        "plt.subplot(212)\n",
        "plt.plot(epochs, acc_train, 'g', label='Training accuracy')\n",
        "plt.plot(epochs, acc_val, 'b', label='validation accuracy')\n",
        "plt.title('Training and Validation accuracy')\n",
        "plt.xlabel('Epochs')\n",
        "plt.ylabel('Accuracy')\n",
        "plt.legend()\n",
        "\n",
        "plt.show()"
      ],
      "execution_count": null,
      "outputs": [
        {
          "output_type": "display_data",
          "data": {
            "image/png": "[encoded data removed]",
            "text/plain": [
              "<Figure size 864x1728 with 2 Axes>"
            ]
          },
          "metadata": {
            "tags": []
          }
        }
      ]
    },
    {
      "cell_type": "code",
      "metadata": {
        "colab": {
          "base_uri": "https://localhost:8080/"
        },
        "id": "y4mlLWfrs06e",
        "outputId": "5e71fe51-b916-4e9b-8d3a-aff487bd0fb8"
      },
      "source": [
        "# Making preditions on test data\n",
        "\n",
        "y_pred = model.predict(Test_PCA)\n",
        "y_pred.shape "
      ],
      "execution_count": null,
      "outputs": [
        {
          "output_type": "execute_result",
          "data": {
            "text/plain": [
              "(1150, 2)"
            ]
          },
          "metadata": {
            "tags": []
          },
          "execution_count": 133
        }
      ]
    },
    {
      "cell_type": "code",
      "metadata": {
        "colab": {
          "base_uri": "https://localhost:8080/",
          "height": 632
        },
        "id": "6CnVoBMb0Ysa",
        "outputId": "eb2c91a4-ad3d-4c21-a428-1550e2809656"
      },
      "source": [
        "from sklearn import metrics\n",
        "\n",
        "matrix = metrics.confusion_matrix(Y_test.argmax(axis=1), y_pred.argmax(axis=1)) # Confusion Matrix\n",
        "\n",
        "accuracy = metrics.accuracy_score(Y_test.argmax(axis=1), y_pred.argmax(axis=1)) # Accuracy\n",
        "\n",
        "print(\"The confusion matrix is as follows: \")\n",
        "print(matrix,\"\\n\")\n",
        "\n",
        "plt.figure(figsize=(8, 8))\n",
        "sns.heatmap(matrix, annot=True, vmin=0, fmt='g', cbar=False)\n",
        "# plt.xticks(np.arange(3) + 0.5, label_mapping.keys())\n",
        "# plt.yticks(np.arange(3) + 0.5, label_mapping.keys())\n",
        "plt.xlabel(\"Predicted\")\n",
        "plt.ylabel(\"Actual\")\n",
        "plt.title(\"Confusion Matrix\")\n",
        "plt.show()\n",
        "print(\"\\n\")\n",
        "print(\"The accuracy of the predictor is: \" + str(accuracy*100) + \"%\")"
      ],
      "execution_count": null,
      "outputs": [
        {
          "output_type": "stream",
          "text": [
            "The confusion matrix is as follows: \n",
            "[[914  14]\n",
            " [ 18 204]] \n",
            "\n"
          ],
          "name": "stdout"
        },
        {
          "output_type": "display_data",
          "data": {
            "image/png": "[encoded data removed]",
            "text/plain": [
              "<Figure size 576x576 with 1 Axes>"
            ]
          },
          "metadata": {
            "tags": []
          }
        },
        {
          "output_type": "stream",
          "text": [
            "\n",
            "\n",
            "The accuracy of the predictor is: 97.21739130434783%\n"
          ],
          "name": "stdout"
        }
      ]
    },
    {
      "cell_type": "code",
      "metadata": {
        "id": "6ByzKU7n11gM"
      },
      "source": [
        ""
      ],
      "execution_count": null,
      "outputs": []
    }
  ]
}